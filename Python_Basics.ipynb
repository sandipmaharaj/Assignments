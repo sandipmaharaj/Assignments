{
  "nbformat": 4,
  "nbformat_minor": 0,
  "metadata": {
    "colab": {
      "provenance": []
    },
    "kernelspec": {
      "name": "python3",
      "display_name": "Python 3"
    },
    "language_info": {
      "name": "python"
    }
  },
  "cells": [
    {
      "cell_type": "markdown",
      "source": [
        "#Python Basics"
      ],
      "metadata": {
        "id": "h2-VBsugVtEH"
      }
    },
    {
      "cell_type": "markdown",
      "source": [
        "1. What is Python, and why is it popular?\n",
        "\n",
        "  A: Python is a Programming Language and it is popular as it is easy to learn and easy to use due to its versatality."
      ],
      "metadata": {
        "id": "-0YD9yOlX4GZ"
      }
    },
    {
      "cell_type": "markdown",
      "source": [
        "2. What is an interpreter in Python?\n",
        "\n",
        "  A: An interpreter is a program which executes code line by line without needing to compile the entire code into machine code as a package."
      ],
      "metadata": {
        "id": "4OPUx5CwYla2"
      }
    },
    {
      "cell_type": "markdown",
      "source": [
        "3. What are pre-defined kyewords in Python\n",
        "\n",
        "  A: Pre-defined keywords are reserved words which have meanings and serves the purpose for conditions to be used while writing a code like if, else etc."
      ],
      "metadata": {
        "id": "TFJLvtdoZSJT"
      }
    },
    {
      "cell_type": "markdown",
      "source": [
        "4. Can keywords be used as variable names?\n",
        "\n",
        "  A: No, keywords cannot be used as variable names as they are reserved for specific code syntaxes and are used while writing conditions."
      ],
      "metadata": {
        "id": "YCJvd-bCaiWt"
      }
    },
    {
      "cell_type": "markdown",
      "source": [
        "5. What is mutability in Python?\n",
        "\n",
        " A: Mutability means an object's or structure's state can be changed after it is created. Mutable objects or structures can be changed like lists and immutable objects or structures cannot be changed like tuples."
      ],
      "metadata": {
        "id": "qJabDIUwdY04"
      }
    },
    {
      "cell_type": "markdown",
      "source": [
        "6. Why are lists mutable, but tuples are immutable?\n",
        "\n",
        "  A: Lists are mutable as they allow flexibility for dynamic data or modifications whereas tuples are meant for data integrity to maintain sets of data."
      ],
      "metadata": {
        "id": "6La4r5_9gBt-"
      }
    },
    {
      "cell_type": "markdown",
      "source": [
        "7. What is the difference between “==” and “is” operators in Python?\n",
        "\n",
        "  A: \"==\" checks whether the value is equal to a compared value or not and \"is\" keyword checks and \"is\" keyword checks for identity whether the two values point to the same object in memory or not."
      ],
      "metadata": {
        "id": "tOObKFGGgZgA"
      }
    },
    {
      "cell_type": "markdown",
      "source": [
        "8. What are logical operators in Python?\n",
        "\n",
        "  A: Logical operators are combined statements of conditions which shows whether the values are different or equal and returns the statement of the differences or similarities like \"and\" returns True if both are true etc."
      ],
      "metadata": {
        "id": "DNQ9ikiQhOy-"
      }
    },
    {
      "cell_type": "markdown",
      "source": [
        "9. What is type casting in Python?\n",
        "\n",
        "  A: Type casting is the process of converting one data type to another like a string to an integer etc."
      ],
      "metadata": {
        "id": "n5bC-S6Hh2Vz"
      }
    },
    {
      "cell_type": "markdown",
      "source": [
        "10. What is the difference between implicit and explicit type casting?\n",
        "\n",
        "  A: Implicit type casting is done by identifying the type automatically as per the data input without the need of declaring it and explicit type casting is done using functions like int(), str() etc. where the type has to be specifically defined."
      ],
      "metadata": {
        "id": "hutc-LNRkARQ"
      }
    },
    {
      "cell_type": "markdown",
      "source": [
        "11. What is the purpose of conditional statements in Python?\n",
        "\n",
        "  A: Conditional statements helps in analysing the result based on the conditions proivided and also shows the specific values which are applicable to the specific data."
      ],
      "metadata": {
        "id": "wh9c5Z3dkmr1"
      }
    },
    {
      "cell_type": "markdown",
      "source": [
        "12. How does the elif statement work?\n",
        "\n",
        "  A: elif statement checks whether the condition is true or false. It proceeds to the next elif statement once the condition in the first statement is false and checks for the second statement to be true."
      ],
      "metadata": {
        "id": "G-2ebEatk3RK"
      }
    },
    {
      "cell_type": "markdown",
      "source": [
        "13. What is the difference between for and while loops?\n",
        "\n",
        "  A: For loop is used when the number of iterations and checks are known. While loop is used when the condition needs to be checked continuously until it is false."
      ],
      "metadata": {
        "id": "-P-frehyk86F"
      }
    },
    {
      "cell_type": "markdown",
      "source": [
        "14. Describe a scenario where a while loop is more suitable than a for loop.\n",
        "\n",
        "  A: The best scenario would be to check an User's input for finding it in a data frame or a set of data unless it matches."
      ],
      "metadata": {
        "id": "Q-fJs7nvlB8I"
      }
    },
    {
      "cell_type": "markdown",
      "source": [
        "# Practical Questions"
      ],
      "metadata": {
        "id": "tWveozUQlKQb"
      }
    },
    {
      "cell_type": "code",
      "source": [
        "# 1. Write a Python Program to print \"Hello World!\"\n",
        "\n",
        "print(\"Hello, World!\")"
      ],
      "metadata": {
        "colab": {
          "base_uri": "https://localhost:8080/"
        },
        "id": "Mf-u-huRaCv5",
        "outputId": "a6244984-eca1-40d3-e6a2-d866acdd76bd"
      },
      "execution_count": 22,
      "outputs": [
        {
          "output_type": "stream",
          "name": "stdout",
          "text": [
            "Hello, World!\n"
          ]
        }
      ]
    },
    {
      "cell_type": "code",
      "source": [
        "# 2. Write a Python Program that displays your name and age.\n",
        "\n",
        "name = \"Sandip\"\n",
        "age = 39\n",
        "\n",
        "print(\"Name:\", name)\n",
        "print(\"Age:\", age)"
      ],
      "metadata": {
        "colab": {
          "base_uri": "https://localhost:8080/"
        },
        "id": "tnejjY6ilcxj",
        "outputId": "a43e69e3-0ea0-4979-d795-434518550ddf"
      },
      "execution_count": 25,
      "outputs": [
        {
          "output_type": "stream",
          "name": "stdout",
          "text": [
            "Name: Sandip\n",
            "Age: 39\n"
          ]
        }
      ]
    },
    {
      "cell_type": "code",
      "source": [
        "# 3. Write a code to print all the pre-defined keywords in Python using the keyword library.\n",
        "\n",
        "import keyword\n",
        "\n",
        "print (keyword.kwlist)"
      ],
      "metadata": {
        "colab": {
          "base_uri": "https://localhost:8080/"
        },
        "id": "9RZDhAnUllEc",
        "outputId": "ccd8c0e2-3a9b-468f-9291-0f462abf1636"
      },
      "execution_count": 24,
      "outputs": [
        {
          "output_type": "stream",
          "name": "stdout",
          "text": [
            "['False', 'None', 'True', 'and', 'as', 'assert', 'async', 'await', 'break', 'class', 'continue', 'def', 'del', 'elif', 'else', 'except', 'finally', 'for', 'from', 'global', 'if', 'import', 'in', 'is', 'lambda', 'nonlocal', 'not', 'or', 'pass', 'raise', 'return', 'try', 'while', 'with', 'yield']\n"
          ]
        }
      ]
    },
    {
      "cell_type": "code",
      "source": [
        "# 4. Write a program that checks if a given word is a Python Keyword.\n",
        "\n",
        "keyword_to_check = input(\"Enter a the Key Word or check: \")\n",
        "\n",
        "if keyword.iskeyword(keyword_to_check):\n",
        "  print (\"Yes, it is a Keyword!\")\n",
        "else:\n",
        "  print (\"No, it is not a Keyword!\")"
      ],
      "metadata": {
        "colab": {
          "base_uri": "https://localhost:8080/"
        },
        "id": "hMV6RjMClvet",
        "outputId": "319a0ef6-6155-4d90-cdcb-671638642e8b"
      },
      "execution_count": 29,
      "outputs": [
        {
          "output_type": "stream",
          "name": "stdout",
          "text": [
            "Enter a the Key Word or check: if\n",
            "Yes, it is a Keyword!\n"
          ]
        }
      ]
    },
    {
      "cell_type": "code",
      "source": [
        "# 5. Create a list and tuple in Python, and demonstrate how attempting to change and element works differently for each.\n",
        "\n",
        "exlist = [1, 2, 3]\n",
        "extuple = (1, 2, 3)\n",
        "\n",
        "exlist[0]=22\n",
        "exlist"
      ],
      "metadata": {
        "colab": {
          "base_uri": "https://localhost:8080/"
        },
        "id": "urwlTINPmPgr",
        "outputId": "da8573ec-2751-459d-dcab-a88183efcefc"
      },
      "execution_count": 36,
      "outputs": [
        {
          "output_type": "execute_result",
          "data": {
            "text/plain": [
              "[22, 2, 3]"
            ]
          },
          "metadata": {},
          "execution_count": 36
        }
      ]
    },
    {
      "cell_type": "code",
      "source": [
        "extuple[0]=22\n",
        "extuple"
      ],
      "metadata": {
        "colab": {
          "base_uri": "https://localhost:8080/",
          "height": 159
        },
        "id": "XIK5Adi4rpjW",
        "outputId": "e4ec9aed-4647-419d-85cf-a1356ab0b862"
      },
      "execution_count": 37,
      "outputs": [
        {
          "output_type": "error",
          "ename": "TypeError",
          "evalue": "'tuple' object does not support item assignment",
          "traceback": [
            "\u001b[0;31m---------------------------------------------------------------------------\u001b[0m",
            "\u001b[0;31mTypeError\u001b[0m                                 Traceback (most recent call last)",
            "\u001b[0;32m/tmp/ipython-input-37-3108076806.py\u001b[0m in \u001b[0;36m<cell line: 0>\u001b[0;34m()\u001b[0m\n\u001b[0;32m----> 1\u001b[0;31m \u001b[0mextuple\u001b[0m\u001b[0;34m[\u001b[0m\u001b[0;36m0\u001b[0m\u001b[0;34m]\u001b[0m\u001b[0;34m=\u001b[0m\u001b[0;36m22\u001b[0m\u001b[0;34m\u001b[0m\u001b[0;34m\u001b[0m\u001b[0m\n\u001b[0m\u001b[1;32m      2\u001b[0m \u001b[0mextuple\u001b[0m\u001b[0;34m\u001b[0m\u001b[0;34m\u001b[0m\u001b[0m\n",
            "\u001b[0;31mTypeError\u001b[0m: 'tuple' object does not support item assignment"
          ]
        }
      ]
    },
    {
      "cell_type": "code",
      "source": [
        "# 6. Write a function to demonstrate the behaviour of mutable and immutable arguments.\n",
        "\n",
        "def modify_args(lst, num):\n",
        "    lst.append(2) # list can be appended thus mutable\n",
        "    num =+5 # tuple value did not change after argument is passed thus immutable\n",
        "    return lst, num\n",
        "\n",
        "print(modify_args([1, 5], 10)) # list appended with 2 but tuple remains 5 even though 10 was passed as value"
      ],
      "metadata": {
        "colab": {
          "base_uri": "https://localhost:8080/"
        },
        "id": "GbYTPRJ6mdI5",
        "outputId": "59b2aa9e-266e-4ef8-e686-93a606440f6d"
      },
      "execution_count": 52,
      "outputs": [
        {
          "output_type": "stream",
          "name": "stdout",
          "text": [
            "([1, 5, 2], 5)\n"
          ]
        }
      ]
    },
    {
      "cell_type": "code",
      "source": [
        "# 7. Write a program that performs basic arithmetic operations on two user-input numbers.\n",
        "\n",
        "a = int(input(\"Enter first number: \"))\n",
        "b = int(input(\"Enter second number: \"))\n",
        "\n",
        "print(\"Sum:\", a + b)\n",
        "print(\"Difference:\", a - b)\n",
        "print(\"Product:\", a * b)\n",
        "print(\"Division:\", a / b)"
      ],
      "metadata": {
        "colab": {
          "base_uri": "https://localhost:8080/"
        },
        "id": "7oMaMWrVm2Du",
        "outputId": "586ba563-124a-40b1-ed99-e5d429d70cca"
      },
      "execution_count": 54,
      "outputs": [
        {
          "output_type": "stream",
          "name": "stdout",
          "text": [
            "Enter first number: 1\n",
            "Enter second number: 2\n",
            "Sum: 3\n",
            "Difference: -1\n",
            "Product: 2\n",
            "Division: 0.5\n"
          ]
        }
      ]
    },
    {
      "cell_type": "code",
      "source": [
        "# 8. Write a program to demonstrate the use of logical operators.\n",
        "\n",
        "x = 10\n",
        "y = 5\n",
        "\n",
        "print(x > 5 and y < 10)\n",
        "print(x < 5 or y < 10)\n",
        "print(not(x > y))"
      ],
      "metadata": {
        "colab": {
          "base_uri": "https://localhost:8080/"
        },
        "id": "z8N6arXMnBxL",
        "outputId": "477ef207-68ab-4dd0-b34e-4ebaa1324f8d"
      },
      "execution_count": 56,
      "outputs": [
        {
          "output_type": "stream",
          "name": "stdout",
          "text": [
            "True\n",
            "True\n",
            "False\n"
          ]
        }
      ]
    },
    {
      "cell_type": "code",
      "source": [
        "# 9. Write a Python programe to convert user input from string to integer, float and boolean types.\n",
        "\n",
        "user_input = \"sandip\"\n",
        "\n",
        "print(\"Integer:\", int(user_input))\n",
        "print(\"Float:\", float(user_input))\n",
        "print(\"Boolean:\", bool(user_input))\n",
        "\n",
        "''' a string cannot be converted into an integer unless the string has numeric value listed in it. '''"
      ],
      "metadata": {
        "colab": {
          "base_uri": "https://localhost:8080/",
          "height": 211
        },
        "id": "i7Y35xoSnPG9",
        "outputId": "7200072a-caa2-4934-ff3c-5de82267d789"
      },
      "execution_count": 66,
      "outputs": [
        {
          "output_type": "error",
          "ename": "ValueError",
          "evalue": "invalid literal for int() with base 10: 'sandip'",
          "traceback": [
            "\u001b[0;31m---------------------------------------------------------------------------\u001b[0m",
            "\u001b[0;31mValueError\u001b[0m                                Traceback (most recent call last)",
            "\u001b[0;32m/tmp/ipython-input-66-2385259481.py\u001b[0m in \u001b[0;36m<cell line: 0>\u001b[0;34m()\u001b[0m\n\u001b[1;32m      3\u001b[0m \u001b[0muser_input\u001b[0m \u001b[0;34m=\u001b[0m \u001b[0;34m\"sandip\"\u001b[0m\u001b[0;34m\u001b[0m\u001b[0;34m\u001b[0m\u001b[0m\n\u001b[1;32m      4\u001b[0m \u001b[0;34m\u001b[0m\u001b[0m\n\u001b[0;32m----> 5\u001b[0;31m \u001b[0mprint\u001b[0m\u001b[0;34m(\u001b[0m\u001b[0;34m\"Integer:\"\u001b[0m\u001b[0;34m,\u001b[0m \u001b[0mint\u001b[0m\u001b[0;34m(\u001b[0m\u001b[0muser_input\u001b[0m\u001b[0;34m)\u001b[0m\u001b[0;34m)\u001b[0m\u001b[0;34m\u001b[0m\u001b[0;34m\u001b[0m\u001b[0m\n\u001b[0m\u001b[1;32m      6\u001b[0m \u001b[0mprint\u001b[0m\u001b[0;34m(\u001b[0m\u001b[0;34m\"Float:\"\u001b[0m\u001b[0;34m,\u001b[0m \u001b[0mfloat\u001b[0m\u001b[0;34m(\u001b[0m\u001b[0muser_input\u001b[0m\u001b[0;34m)\u001b[0m\u001b[0;34m)\u001b[0m\u001b[0;34m\u001b[0m\u001b[0;34m\u001b[0m\u001b[0m\n\u001b[1;32m      7\u001b[0m \u001b[0mprint\u001b[0m\u001b[0;34m(\u001b[0m\u001b[0;34m\"Boolean:\"\u001b[0m\u001b[0;34m,\u001b[0m \u001b[0mbool\u001b[0m\u001b[0;34m(\u001b[0m\u001b[0muser_input\u001b[0m\u001b[0;34m)\u001b[0m\u001b[0;34m)\u001b[0m\u001b[0;34m\u001b[0m\u001b[0;34m\u001b[0m\u001b[0m\n",
            "\u001b[0;31mValueError\u001b[0m: invalid literal for int() with base 10: 'sandip'"
          ]
        }
      ]
    },
    {
      "cell_type": "code",
      "source": [
        "# 10. Write code to demonstrate type casting with list elements.\n",
        "\n",
        "stringlist = [\"1\", \"2\", \"3\"]\n",
        "integerlist = list(map(int, stringlist))\n",
        "print(\"Integer List:\", integerlist)\n",
        "\n",
        "''' Shows the integer which is a numerirc value and was there in the string format '''"
      ],
      "metadata": {
        "colab": {
          "base_uri": "https://localhost:8080/",
          "height": 53
        },
        "id": "xiWPVsZHnYuZ",
        "outputId": "c48c3efc-1c46-437f-d435-6b5761ed6bb9"
      },
      "execution_count": 72,
      "outputs": [
        {
          "output_type": "stream",
          "name": "stdout",
          "text": [
            "Integer List: [1, 2, 3]\n"
          ]
        },
        {
          "output_type": "execute_result",
          "data": {
            "text/plain": [
              "' Shows the integer which is a numerirc value and was there in the string format '"
            ],
            "application/vnd.google.colaboratory.intrinsic+json": {
              "type": "string"
            }
          },
          "metadata": {},
          "execution_count": 72
        }
      ]
    },
    {
      "cell_type": "code",
      "source": [
        "# 11. Write a program that checks if a number is positive, negative or zero.\n",
        "num = float(input(\"Enter a number: \"))\n",
        "\n",
        "if num > 0:\n",
        "    print(\"Positive\")\n",
        "elif num < 0:\n",
        "    print(\"Negative\")\n",
        "else:\n",
        "    print(\"Zero\")"
      ],
      "metadata": {
        "colab": {
          "base_uri": "https://localhost:8080/"
        },
        "id": "HDqlG0JLne7i",
        "outputId": "298c4b53-5f4d-4707-c007-e2098a8cbbac"
      },
      "execution_count": 75,
      "outputs": [
        {
          "output_type": "stream",
          "name": "stdout",
          "text": [
            "Enter a number: -10.6\n",
            "Negative\n"
          ]
        }
      ]
    },
    {
      "cell_type": "code",
      "source": [
        "# 12. Write a loop to print numbers from 1 to 10.\n",
        "\n",
        "for i in range(1, 11):\n",
        "    print(i)"
      ],
      "metadata": {
        "colab": {
          "base_uri": "https://localhost:8080/"
        },
        "id": "N1sqyD-7nnQp",
        "outputId": "9b032294-38b8-4739-abd5-d72a99fdf8ab"
      },
      "execution_count": 76,
      "outputs": [
        {
          "output_type": "stream",
          "name": "stdout",
          "text": [
            "1\n",
            "2\n",
            "3\n",
            "4\n",
            "5\n",
            "6\n",
            "7\n",
            "8\n",
            "9\n",
            "10\n"
          ]
        }
      ]
    },
    {
      "cell_type": "code",
      "source": [
        "# 13. Write a Python program to find the sum of all even numbers between 1 and 50.\n",
        "\n",
        "total = 0\n",
        "for i in range(2, 51, 2):\n",
        "    total += i\n",
        "print(\"Sum of even numbers:\", total)"
      ],
      "metadata": {
        "colab": {
          "base_uri": "https://localhost:8080/"
        },
        "id": "h9O_obz7nsns",
        "outputId": "1f34993d-a81a-4aac-dfa9-a9d9699d2aed"
      },
      "execution_count": 78,
      "outputs": [
        {
          "output_type": "stream",
          "name": "stdout",
          "text": [
            "Sum of even numbers: 650\n"
          ]
        }
      ]
    },
    {
      "cell_type": "code",
      "source": [
        "# 14. Write a program to rverse a striong using a while loop.\n",
        "\n",
        "s = \"Sandip\"\n",
        "rev = \"\"\n",
        "i = len(s) - 1\n",
        "while i >= 0:\n",
        "    rev += s[i]\n",
        "    i -= 1\n",
        "print(\"Reversed string:\", rev)"
      ],
      "metadata": {
        "colab": {
          "base_uri": "https://localhost:8080/"
        },
        "id": "poz_U2Xmn1Ky",
        "outputId": "5ab610b6-c00e-4453-ead0-606f54f922fb"
      },
      "execution_count": 83,
      "outputs": [
        {
          "output_type": "stream",
          "name": "stdout",
          "text": [
            "Reversed string: pidnaS\n"
          ]
        }
      ]
    },
    {
      "cell_type": "code",
      "source": [
        "# 15. Write a Python program to calculate the factorial of a number provided by the user using a while loop.\n",
        "\n",
        "n = 5\n",
        "fac = 1\n",
        "while n > 1:\n",
        "    fac *= n\n",
        "    n -= 1\n",
        "print(\"Factorial:\", fac)"
      ],
      "metadata": {
        "colab": {
          "base_uri": "https://localhost:8080/"
        },
        "id": "1gE4X-Oyn5jP",
        "outputId": "7ba6f727-3a20-48ee-b26c-a827ef22e9b6"
      },
      "execution_count": 86,
      "outputs": [
        {
          "output_type": "stream",
          "name": "stdout",
          "text": [
            "Factorial: 120\n"
          ]
        }
      ]
    },
    {
      "cell_type": "code",
      "source": [],
      "metadata": {
        "id": "vlerwkPl9HsY"
      },
      "execution_count": null,
      "outputs": []
    }
  ]
}